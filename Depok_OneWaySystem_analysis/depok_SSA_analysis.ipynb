{
 "cells": [
  {
   "cell_type": "markdown",
   "metadata": {},
   "source": [
    "# Does SSA (Sistem Satu Arah - Unidirectional Road System) implementation on some road segments in Depok city make any improvement to the traffic condition of the city?\n",
    "\n",
    "- Comparing the traffic conditions (in terms of travel time) between various locations in Depok city before (< July 2017) and after (> July 2017) the implementation of SSA\n",
    "- Using HERE REST API to derive past traffic conditions"
   ]
  },
  {
   "cell_type": "markdown",
   "metadata": {},
   "source": [
    "### Limitations\n",
    "Apparently HERE REST API only provides precise historical travel times from 1 January 2018 onward. Travel times before that time are averaged out and categorised into 'morning travel' and 'evening travel'."
   ]
  },
  {
   "cell_type": "markdown",
   "metadata": {},
   "source": [
    "# Data input"
   ]
  },
  {
   "cell_type": "code",
   "execution_count": 1,
   "metadata": {
    "collapsed": true
   },
   "outputs": [],
   "source": [
    "import pandas as pd\n",
    "import geopandas as gpd\n",
    "import numpy as np\n",
    "import json\n",
    "import urllib.request\n",
    "import sys\n",
    "import osmnx as ox\n",
    "from shapely.geometry import Point, Polygon\n",
    "import gmplot\n",
    "from here_api import *"
   ]
  },
  {
   "cell_type": "code",
   "execution_count": 2,
   "metadata": {},
   "outputs": [],
   "source": [
    "#list koordinat\n",
    "points = [Point(106.831913, -6.377133), #pertigaan juanda-margonda arah ramanda\n",
    "          Point(106.831768, -6.377069), #pertigaan juanda-margonda arah margo city\n",
    "          Point(106.825930, -6.389564), #pertigaan ramanda arah terminal depok\n",
    "          Point(106.825812, -6.389415), #pertigaan ramanda arah depok mall\n",
    "          Point(106.814649, -6.392354), #pasar baru jln nusantara\n",
    "          Point(106.812714, -6.399052), #jln raya sawangan\n",
    "          Point(106.813877, -6.397228), #rumah (sarikaya)\n",
    "          Point(106.813627, -6.399058), #dewi sartika, perlimaan, lajur lama\n",
    "          Point(106.813580, -6.399127), #dewi sartika, perlimaan, lajur baru\n",
    "          Point(106.818997, -6.399890), #jln kartini - dewi sartika, arah margonda\n",
    "          Point(106.819098, -6.399924), #jln kartini - dewi sartika, arah citayam\n",
    "          Point(106.823846, -6.393196), #ITC depok\n",
    "          Point(106.824034, -6.393209), #sebrang ITC depok\n",
    "         ]"
   ]
  },
  {
   "cell_type": "code",
   "execution_count": 3,
   "metadata": {
    "collapsed": true
   },
   "outputs": [],
   "source": [
    "points_name = ['01 pertigaan juanda-margonda arah ramanda',\n",
    "          '02 pertigaan ramanda arah terminal depok',\n",
    "          '03 pertigaan ramanda arah depok mall',\n",
    "          '04 pasar baru jln nusantara',\n",
    "          '05 jln raya sawangan',\n",
    "          '06 rumah (sarikaya)',\n",
    "          '07 dewi sartika, perlimaan, lajur lama',\n",
    "          '08 dewi sartika, perlimaan, lajur baru',\n",
    "          '09 jln kartini - dewi sartika, arah margonda',\n",
    "          '10 jln kartini - dewi sartika, arah citayam',\n",
    "          '11 ITC depok',\n",
    "          '12 sebrang ITC depok']"
   ]
  },
  {
   "cell_type": "code",
   "execution_count": 4,
   "metadata": {
    "collapsed": true
   },
   "outputs": [],
   "source": [
    "times2018_mon = ['2018-02-05T{}:00:00'.format(x) for x in ['07', '08', '09', '17', '18', '19']]\n",
    "times2018_wed = ['2018-02-07T{}:00:00'.format(x) for x in ['07', '08', '09', '17', '18', '19']]\n",
    "times2018_fri = ['2018-02-09T{}:00:00'.format(x) for x in ['07', '08', '09', '17', '18', '19']]\n",
    "times2018_sat = ['2018-02-10T{}:00:00'.format(x) for x in ['07', '08', '09', '17', '18', '19']]\n",
    "\n",
    "times2017_mon = ['2017-02-06T{}:00:00'.format(x) for x in ['07', '08', '09', '17', '18', '19']]\n",
    "times2017_wed = ['2017-02-08T{}:00:00'.format(x) for x in ['07', '08', '09', '17', '18', '19']]\n",
    "times2017_fri = ['2017-02-10T{}:00:00'.format(x) for x in ['07', '08', '09', '17', '18', '19']]\n",
    "times2017_sat = ['2017-02-11T{}:00:00'.format(x) for x in ['07', '08', '09', '17', '18', '19']]"
   ]
  },
  {
   "cell_type": "code",
   "execution_count": 5,
   "metadata": {},
   "outputs": [
    {
     "data": {
      "text/plain": [
       "['2018-02-09T07:00:00',\n",
       " '2018-02-09T08:00:00',\n",
       " '2018-02-09T09:00:00',\n",
       " '2018-02-09T17:00:00',\n",
       " '2018-02-09T18:00:00',\n",
       " '2018-02-09T19:00:00']"
      ]
     },
     "execution_count": 5,
     "metadata": {},
     "output_type": "execute_result"
    }
   ],
   "source": [
    "times2018_fri"
   ]
  },
  {
   "cell_type": "markdown",
   "metadata": {},
   "source": [
    "# Draw isoline\n",
    "Isoline : line that defines an area that can be reached within a given time from a given point on a map\n",
    "\n",
    "Results are saved directly into a separate HTML file"
   ]
  },
  {
   "cell_type": "code",
   "execution_count": 6,
   "metadata": {
    "collapsed": true
   },
   "outputs": [],
   "source": [
    "#coba isoline 2018\n",
    "start = points[4]\n",
    "app_code = ''\n",
    "app_id = ''\n",
    "dep_hour = times2018_sat[5]\n",
    "input_range=600 #in seconds\n",
    "\n",
    "test_poly1=get_isoline(start, dep_hour, app_code, app_id, input_range)\n",
    "test_poly_pic=draw_isoline(center=start, range_=14, poly=test_poly1)\n",
    "test_poly_pic.draw('map_2018.html')"
   ]
  },
  {
   "cell_type": "code",
   "execution_count": 7,
   "metadata": {},
   "outputs": [],
   "source": [
    "#coba isoline 2017\n",
    "start = points[4]\n",
    "app_code = ''\n",
    "app_id = ''\n",
    "dep_hour = times2017_sat[5]\n",
    "input_range=600 #in seconds\n",
    "\n",
    "test_poly2=get_isoline(start, dep_hour, app_code, app_id, input_range)\n",
    "test_poly_pic=draw_isoline(center=start, range_=14, poly=test_poly2)\n",
    "test_poly_pic.draw('map_2017.html')"
   ]
  },
  {
   "cell_type": "code",
   "execution_count": 8,
   "metadata": {
    "collapsed": true
   },
   "outputs": [],
   "source": [
    "test_poly_pic_compare = draw_isoline_compare(center=start, range_=14, poly1=test_poly1, poly2=test_poly2)\n",
    "test_poly_pic_compare.draw('map_2017_2018.html')"
   ]
  },
  {
   "cell_type": "markdown",
   "metadata": {},
   "source": [
    "# CSV generation"
   ]
  },
  {
   "cell_type": "code",
   "execution_count": 9,
   "metadata": {
    "collapsed": true
   },
   "outputs": [],
   "source": [
    "times_pairs = [(times2018_mon, times2017_mon),\n",
    "               (times2018_wed, times2017_wed),\n",
    "               (times2018_fri, times2017_fri),\n",
    "               (times2018_sat, times2017_sat)]"
   ]
  },
  {
   "cell_type": "code",
   "execution_count": 11,
   "metadata": {},
   "outputs": [],
   "source": [
    "app_code = ''\n",
    "app_id = ''\n",
    "\n",
    "gdf_master = gpd.GeoDataFrame()\n",
    "\n",
    "for times_pair in times_pairs:\n",
    "    for p1 in range(12): #for each starting position\n",
    "        for p2 in range(12): #for each ending position\n",
    "            if p1 != p2:\n",
    "                start = points[p1]\n",
    "                end = points[p2]\n",
    "\n",
    "                #2018 data\n",
    "                for t in range(6): #for each time of the day\n",
    "                    dep_hour = times_pair[0][t]\n",
    "                    if t==0:\n",
    "                        gdf = get_df(start=start, end=end, time=dep_hour, app_code=app_code, app_id=app_id)\n",
    "                        gdf['clock_time'] = dep_hour\n",
    "                    else:\n",
    "                        gdf2 = get_df(start=start, end=end, time=dep_hour, app_code=app_code, app_id=app_id)\n",
    "                        gdf2['clock_time'] = dep_hour\n",
    "                        gdf = gdf.append(gdf2)\n",
    "                gdf['From'] = points_name[p1]\n",
    "                gdf['To'] = points_name[p2]\n",
    "                gdf_master = gdf_master.append(gdf)\n",
    "\n",
    "                #2017 data\n",
    "                for t in range(6): #for each time of the day\n",
    "                    dep_hour = times_pair[1][t]\n",
    "                    if t==0:\n",
    "                        gdf = get_df(start=start, end=end, time=dep_hour, app_code=app_code, app_id=app_id)\n",
    "                        gdf['clock_time'] = dep_hour\n",
    "                    else:\n",
    "                        gdf2 = get_df(start=start, end=end, time=dep_hour, app_code=app_code, app_id=app_id)\n",
    "                        gdf2['clock_time'] = dep_hour\n",
    "                        gdf = gdf.append(gdf2)\n",
    "                gdf['From'] = points_name[p1]\n",
    "                gdf['To'] = points_name[p2]\n",
    "                gdf_master = gdf_master.append(gdf)"
   ]
  },
  {
   "cell_type": "code",
   "execution_count": 12,
   "metadata": {
    "collapsed": true
   },
   "outputs": [],
   "source": [
    "gdf_master.to_csv('data_2017_2018.csv')"
   ]
  },
  {
   "cell_type": "code",
   "execution_count": 13,
   "metadata": {},
   "outputs": [
    {
     "data": {
      "text/plain": [
       "6336"
      ]
     },
     "execution_count": 13,
     "metadata": {},
     "output_type": "execute_result"
    }
   ],
   "source": [
    "len(gdf_master)"
   ]
  },
  {
   "cell_type": "markdown",
   "metadata": {},
   "source": [
    "# analysis"
   ]
  },
  {
   "cell_type": "code",
   "execution_count": 46,
   "metadata": {
    "collapsed": true
   },
   "outputs": [],
   "source": [
    "import pandas as pd\n",
    "import numpy as np\n",
    "import sys\n",
    "from shapely.geometry import Point, Polygon\n",
    "import datetime\n",
    "import calendar\n",
    "\n",
    "df = pd.read_csv('data_2017_2018.csv')"
   ]
  },
  {
   "cell_type": "code",
   "execution_count": 48,
   "metadata": {
    "collapsed": true
   },
   "outputs": [],
   "source": [
    "def get_day(dt):\n",
    "    year, month, day = (int(x) for x in dt.split('-'))\n",
    "    day_no = datetime.date(year, month, day).weekday()\n",
    "    return calendar.day_name[day_no]"
   ]
  },
  {
   "cell_type": "code",
   "execution_count": 49,
   "metadata": {},
   "outputs": [],
   "source": [
    "df['year'] = df['clock_time'].apply(lambda t: int(t[:4]))\n",
    "df['time_of_day'] = df['clock_time'].apply(lambda t: 'Morning' if int(t[11:13]) < 10 else 'Evening')\n",
    "df['day'] = df['clock_time'].apply(lambda t: get_day(t[:10]))"
   ]
  },
  {
   "cell_type": "code",
   "execution_count": 52,
   "metadata": {},
   "outputs": [
    {
     "data": {
      "text/html": [
       "<div>\n",
       "<style scoped>\n",
       "    .dataframe tbody tr th:only-of-type {\n",
       "        vertical-align: middle;\n",
       "    }\n",
       "\n",
       "    .dataframe tbody tr th {\n",
       "        vertical-align: top;\n",
       "    }\n",
       "\n",
       "    .dataframe thead th {\n",
       "        text-align: right;\n",
       "    }\n",
       "</style>\n",
       "<table border=\"1\" class=\"dataframe\">\n",
       "  <thead>\n",
       "    <tr style=\"text-align: right;\">\n",
       "      <th></th>\n",
       "      <th>Unnamed: 0</th>\n",
       "      <th>distance</th>\n",
       "      <th>time</th>\n",
       "      <th>geometry</th>\n",
       "      <th>clock_time</th>\n",
       "      <th>From</th>\n",
       "      <th>To</th>\n",
       "      <th>year</th>\n",
       "      <th>time_of_day</th>\n",
       "      <th>day</th>\n",
       "    </tr>\n",
       "  </thead>\n",
       "  <tbody>\n",
       "    <tr>\n",
       "      <th>6321</th>\n",
       "      <td>0</td>\n",
       "      <td>945</td>\n",
       "      <td>126</td>\n",
       "      <td>LINESTRING (106.8239155 -6.3932365, 106.823812...</td>\n",
       "      <td>2017-02-11T17:00:00</td>\n",
       "      <td>12 sebrang ITC depok</td>\n",
       "      <td>10 jln kartini - dewi sartika, arah citayam</td>\n",
       "      <td>2017</td>\n",
       "      <td>Evening</td>\n",
       "      <td>Saturday</td>\n",
       "    </tr>\n",
       "    <tr>\n",
       "      <th>6322</th>\n",
       "      <td>0</td>\n",
       "      <td>945</td>\n",
       "      <td>126</td>\n",
       "      <td>LINESTRING (106.8239155 -6.3932365, 106.823812...</td>\n",
       "      <td>2017-02-11T18:00:00</td>\n",
       "      <td>12 sebrang ITC depok</td>\n",
       "      <td>10 jln kartini - dewi sartika, arah citayam</td>\n",
       "      <td>2017</td>\n",
       "      <td>Evening</td>\n",
       "      <td>Saturday</td>\n",
       "    </tr>\n",
       "    <tr>\n",
       "      <th>6323</th>\n",
       "      <td>0</td>\n",
       "      <td>945</td>\n",
       "      <td>126</td>\n",
       "      <td>LINESTRING (106.8239155 -6.3932365, 106.823812...</td>\n",
       "      <td>2017-02-11T19:00:00</td>\n",
       "      <td>12 sebrang ITC depok</td>\n",
       "      <td>10 jln kartini - dewi sartika, arah citayam</td>\n",
       "      <td>2017</td>\n",
       "      <td>Evening</td>\n",
       "      <td>Saturday</td>\n",
       "    </tr>\n",
       "    <tr>\n",
       "      <th>6324</th>\n",
       "      <td>0</td>\n",
       "      <td>932</td>\n",
       "      <td>126</td>\n",
       "      <td>LINESTRING (106.8239155 -6.3932365, 106.823812...</td>\n",
       "      <td>2018-02-10T07:00:00</td>\n",
       "      <td>12 sebrang ITC depok</td>\n",
       "      <td>11 ITC depok</td>\n",
       "      <td>2018</td>\n",
       "      <td>Morning</td>\n",
       "      <td>Saturday</td>\n",
       "    </tr>\n",
       "    <tr>\n",
       "      <th>6325</th>\n",
       "      <td>0</td>\n",
       "      <td>932</td>\n",
       "      <td>139</td>\n",
       "      <td>LINESTRING (106.8239155 -6.3932365, 106.823812...</td>\n",
       "      <td>2018-02-10T08:00:00</td>\n",
       "      <td>12 sebrang ITC depok</td>\n",
       "      <td>11 ITC depok</td>\n",
       "      <td>2018</td>\n",
       "      <td>Morning</td>\n",
       "      <td>Saturday</td>\n",
       "    </tr>\n",
       "    <tr>\n",
       "      <th>6326</th>\n",
       "      <td>0</td>\n",
       "      <td>932</td>\n",
       "      <td>150</td>\n",
       "      <td>LINESTRING (106.8239155 -6.3932365, 106.823812...</td>\n",
       "      <td>2018-02-10T09:00:00</td>\n",
       "      <td>12 sebrang ITC depok</td>\n",
       "      <td>11 ITC depok</td>\n",
       "      <td>2018</td>\n",
       "      <td>Morning</td>\n",
       "      <td>Saturday</td>\n",
       "    </tr>\n",
       "    <tr>\n",
       "      <th>6327</th>\n",
       "      <td>0</td>\n",
       "      <td>932</td>\n",
       "      <td>180</td>\n",
       "      <td>LINESTRING (106.8239155 -6.3932365, 106.823812...</td>\n",
       "      <td>2018-02-10T17:00:00</td>\n",
       "      <td>12 sebrang ITC depok</td>\n",
       "      <td>11 ITC depok</td>\n",
       "      <td>2018</td>\n",
       "      <td>Evening</td>\n",
       "      <td>Saturday</td>\n",
       "    </tr>\n",
       "    <tr>\n",
       "      <th>6328</th>\n",
       "      <td>0</td>\n",
       "      <td>932</td>\n",
       "      <td>178</td>\n",
       "      <td>LINESTRING (106.8239155 -6.3932365, 106.823812...</td>\n",
       "      <td>2018-02-10T18:00:00</td>\n",
       "      <td>12 sebrang ITC depok</td>\n",
       "      <td>11 ITC depok</td>\n",
       "      <td>2018</td>\n",
       "      <td>Evening</td>\n",
       "      <td>Saturday</td>\n",
       "    </tr>\n",
       "    <tr>\n",
       "      <th>6329</th>\n",
       "      <td>0</td>\n",
       "      <td>932</td>\n",
       "      <td>170</td>\n",
       "      <td>LINESTRING (106.8239155 -6.3932365, 106.823812...</td>\n",
       "      <td>2018-02-10T19:00:00</td>\n",
       "      <td>12 sebrang ITC depok</td>\n",
       "      <td>11 ITC depok</td>\n",
       "      <td>2018</td>\n",
       "      <td>Evening</td>\n",
       "      <td>Saturday</td>\n",
       "    </tr>\n",
       "    <tr>\n",
       "      <th>6330</th>\n",
       "      <td>0</td>\n",
       "      <td>932</td>\n",
       "      <td>124</td>\n",
       "      <td>LINESTRING (106.8239155 -6.3932365, 106.823812...</td>\n",
       "      <td>2017-02-11T07:00:00</td>\n",
       "      <td>12 sebrang ITC depok</td>\n",
       "      <td>11 ITC depok</td>\n",
       "      <td>2017</td>\n",
       "      <td>Morning</td>\n",
       "      <td>Saturday</td>\n",
       "    </tr>\n",
       "    <tr>\n",
       "      <th>6331</th>\n",
       "      <td>0</td>\n",
       "      <td>932</td>\n",
       "      <td>124</td>\n",
       "      <td>LINESTRING (106.8239155 -6.3932365, 106.823812...</td>\n",
       "      <td>2017-02-11T08:00:00</td>\n",
       "      <td>12 sebrang ITC depok</td>\n",
       "      <td>11 ITC depok</td>\n",
       "      <td>2017</td>\n",
       "      <td>Morning</td>\n",
       "      <td>Saturday</td>\n",
       "    </tr>\n",
       "    <tr>\n",
       "      <th>6332</th>\n",
       "      <td>0</td>\n",
       "      <td>932</td>\n",
       "      <td>124</td>\n",
       "      <td>LINESTRING (106.8239155 -6.3932365, 106.823812...</td>\n",
       "      <td>2017-02-11T09:00:00</td>\n",
       "      <td>12 sebrang ITC depok</td>\n",
       "      <td>11 ITC depok</td>\n",
       "      <td>2017</td>\n",
       "      <td>Morning</td>\n",
       "      <td>Saturday</td>\n",
       "    </tr>\n",
       "    <tr>\n",
       "      <th>6333</th>\n",
       "      <td>0</td>\n",
       "      <td>932</td>\n",
       "      <td>124</td>\n",
       "      <td>LINESTRING (106.8239155 -6.3932365, 106.823812...</td>\n",
       "      <td>2017-02-11T17:00:00</td>\n",
       "      <td>12 sebrang ITC depok</td>\n",
       "      <td>11 ITC depok</td>\n",
       "      <td>2017</td>\n",
       "      <td>Evening</td>\n",
       "      <td>Saturday</td>\n",
       "    </tr>\n",
       "    <tr>\n",
       "      <th>6334</th>\n",
       "      <td>0</td>\n",
       "      <td>932</td>\n",
       "      <td>124</td>\n",
       "      <td>LINESTRING (106.8239155 -6.3932365, 106.823812...</td>\n",
       "      <td>2017-02-11T18:00:00</td>\n",
       "      <td>12 sebrang ITC depok</td>\n",
       "      <td>11 ITC depok</td>\n",
       "      <td>2017</td>\n",
       "      <td>Evening</td>\n",
       "      <td>Saturday</td>\n",
       "    </tr>\n",
       "    <tr>\n",
       "      <th>6335</th>\n",
       "      <td>0</td>\n",
       "      <td>932</td>\n",
       "      <td>124</td>\n",
       "      <td>LINESTRING (106.8239155 -6.3932365, 106.823812...</td>\n",
       "      <td>2017-02-11T19:00:00</td>\n",
       "      <td>12 sebrang ITC depok</td>\n",
       "      <td>11 ITC depok</td>\n",
       "      <td>2017</td>\n",
       "      <td>Evening</td>\n",
       "      <td>Saturday</td>\n",
       "    </tr>\n",
       "  </tbody>\n",
       "</table>\n",
       "</div>"
      ],
      "text/plain": [
       "      Unnamed: 0  distance  time  \\\n",
       "6321           0       945   126   \n",
       "6322           0       945   126   \n",
       "6323           0       945   126   \n",
       "6324           0       932   126   \n",
       "6325           0       932   139   \n",
       "6326           0       932   150   \n",
       "6327           0       932   180   \n",
       "6328           0       932   178   \n",
       "6329           0       932   170   \n",
       "6330           0       932   124   \n",
       "6331           0       932   124   \n",
       "6332           0       932   124   \n",
       "6333           0       932   124   \n",
       "6334           0       932   124   \n",
       "6335           0       932   124   \n",
       "\n",
       "                                               geometry           clock_time  \\\n",
       "6321  LINESTRING (106.8239155 -6.3932365, 106.823812...  2017-02-11T17:00:00   \n",
       "6322  LINESTRING (106.8239155 -6.3932365, 106.823812...  2017-02-11T18:00:00   \n",
       "6323  LINESTRING (106.8239155 -6.3932365, 106.823812...  2017-02-11T19:00:00   \n",
       "6324  LINESTRING (106.8239155 -6.3932365, 106.823812...  2018-02-10T07:00:00   \n",
       "6325  LINESTRING (106.8239155 -6.3932365, 106.823812...  2018-02-10T08:00:00   \n",
       "6326  LINESTRING (106.8239155 -6.3932365, 106.823812...  2018-02-10T09:00:00   \n",
       "6327  LINESTRING (106.8239155 -6.3932365, 106.823812...  2018-02-10T17:00:00   \n",
       "6328  LINESTRING (106.8239155 -6.3932365, 106.823812...  2018-02-10T18:00:00   \n",
       "6329  LINESTRING (106.8239155 -6.3932365, 106.823812...  2018-02-10T19:00:00   \n",
       "6330  LINESTRING (106.8239155 -6.3932365, 106.823812...  2017-02-11T07:00:00   \n",
       "6331  LINESTRING (106.8239155 -6.3932365, 106.823812...  2017-02-11T08:00:00   \n",
       "6332  LINESTRING (106.8239155 -6.3932365, 106.823812...  2017-02-11T09:00:00   \n",
       "6333  LINESTRING (106.8239155 -6.3932365, 106.823812...  2017-02-11T17:00:00   \n",
       "6334  LINESTRING (106.8239155 -6.3932365, 106.823812...  2017-02-11T18:00:00   \n",
       "6335  LINESTRING (106.8239155 -6.3932365, 106.823812...  2017-02-11T19:00:00   \n",
       "\n",
       "                      From                                           To  year  \\\n",
       "6321  12 sebrang ITC depok  10 jln kartini - dewi sartika, arah citayam  2017   \n",
       "6322  12 sebrang ITC depok  10 jln kartini - dewi sartika, arah citayam  2017   \n",
       "6323  12 sebrang ITC depok  10 jln kartini - dewi sartika, arah citayam  2017   \n",
       "6324  12 sebrang ITC depok                                 11 ITC depok  2018   \n",
       "6325  12 sebrang ITC depok                                 11 ITC depok  2018   \n",
       "6326  12 sebrang ITC depok                                 11 ITC depok  2018   \n",
       "6327  12 sebrang ITC depok                                 11 ITC depok  2018   \n",
       "6328  12 sebrang ITC depok                                 11 ITC depok  2018   \n",
       "6329  12 sebrang ITC depok                                 11 ITC depok  2018   \n",
       "6330  12 sebrang ITC depok                                 11 ITC depok  2017   \n",
       "6331  12 sebrang ITC depok                                 11 ITC depok  2017   \n",
       "6332  12 sebrang ITC depok                                 11 ITC depok  2017   \n",
       "6333  12 sebrang ITC depok                                 11 ITC depok  2017   \n",
       "6334  12 sebrang ITC depok                                 11 ITC depok  2017   \n",
       "6335  12 sebrang ITC depok                                 11 ITC depok  2017   \n",
       "\n",
       "     time_of_day       day  \n",
       "6321     Evening  Saturday  \n",
       "6322     Evening  Saturday  \n",
       "6323     Evening  Saturday  \n",
       "6324     Morning  Saturday  \n",
       "6325     Morning  Saturday  \n",
       "6326     Morning  Saturday  \n",
       "6327     Evening  Saturday  \n",
       "6328     Evening  Saturday  \n",
       "6329     Evening  Saturday  \n",
       "6330     Morning  Saturday  \n",
       "6331     Morning  Saturday  \n",
       "6332     Morning  Saturday  \n",
       "6333     Evening  Saturday  \n",
       "6334     Evening  Saturday  \n",
       "6335     Evening  Saturday  "
      ]
     },
     "execution_count": 52,
     "metadata": {},
     "output_type": "execute_result"
    }
   ],
   "source": [
    "df.tail(15)"
   ]
  },
  {
   "cell_type": "code",
   "execution_count": null,
   "metadata": {
    "collapsed": true
   },
   "outputs": [],
   "source": []
  }
 ],
 "metadata": {
  "kernelspec": {
   "display_name": "Python [conda root]",
   "language": "python",
   "name": "conda-root-py"
  },
  "language_info": {
   "codemirror_mode": {
    "name": "ipython",
    "version": 3
   },
   "file_extension": ".py",
   "mimetype": "text/x-python",
   "name": "python",
   "nbconvert_exporter": "python",
   "pygments_lexer": "ipython3",
   "version": "3.6.3"
  }
 },
 "nbformat": 4,
 "nbformat_minor": 2
}
