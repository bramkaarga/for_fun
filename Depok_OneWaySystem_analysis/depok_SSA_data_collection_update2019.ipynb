{
 "cells": [
  {
   "cell_type": "markdown",
   "metadata": {},
   "source": [
    "# Does SSA (Sistem Satu Arah - Unidirectional Road System) implementation on some road segments in Depok city make any improvement to the traffic condition of the city?\n",
    "\n",
    "- Comparing the traffic conditions (in terms of travel time) between various locations in Depok city before (< July 2017) and after (> July 2017) the implementation of SSA\n",
    "- Using HERE REST API to derive past traffic conditions"
   ]
  },
  {
   "cell_type": "markdown",
   "metadata": {},
   "source": [
    "### Limitations\n",
    "Apparently HERE REST API only provides precise historical travel times from 1 January 2019 onward. Travel times before that time are averaged out and categorised into 'morning travel' and 'evening travel'."
   ]
  },
  {
   "cell_type": "markdown",
   "metadata": {},
   "source": [
    "# information input"
   ]
  },
  {
   "cell_type": "code",
   "execution_count": 19,
   "metadata": {
    "collapsed": true
   },
   "outputs": [],
   "source": [
    "import pandas as pd\n",
    "import geopandas as gpd\n",
    "import numpy as np\n",
    "import json\n",
    "import urllib.request\n",
    "import sys\n",
    "import osmnx as ox\n",
    "from shapely.geometry import Point, Polygon\n",
    "import gmplot\n",
    "from utils import *\n",
    "\n",
    "app_code = ''\n",
    "app_id = ''\n"
   ]
  },
  {
   "cell_type": "code",
   "execution_count": 2,
   "metadata": {
    "collapsed": true
   },
   "outputs": [],
   "source": [
    "#list koordinat\n",
    "points = [Point(106.831913, -6.377133), #01 pertigaan juanda-margonda arah ramanda\n",
    "          Point(106.825930, -6.389564), #02 pertigaan ramanda arah terminal depok\n",
    "          Point(106.825812, -6.389415), #03 pertigaan ramanda arah depok mall\n",
    "          Point(106.814649, -6.392354), #04 pasar baru jln nusantara\n",
    "          Point(106.812714, -6.399052), #05 jln raya sawangan\n",
    "          Point(106.813877, -6.397228), #06 rumah (sarikaya)\n",
    "          Point(106.813627, -6.399058), #07 dewi sartika, perlimaan, lajur lama\n",
    "          Point(106.813580, -6.399127), #08 dewi sartika, perlimaan, lajur baru\n",
    "          Point(106.818997, -6.399890), #09 jln kartini - dewi sartika, arah margonda\n",
    "          Point(106.819098, -6.399924), #10 jln kartini - dewi sartika, arah citayam\n",
    "          Point(106.823846, -6.393196), #11 ITC depok\n",
    "          Point(106.824034, -6.393209), #12 sebrang ITC depok\n",
    "         ]"
   ]
  },
  {
   "cell_type": "code",
   "execution_count": 3,
   "metadata": {
    "collapsed": true
   },
   "outputs": [],
   "source": [
    "points_name = ['01 pertigaan juanda-margonda arah ramanda',\n",
    "          '02 pertigaan ramanda arah terminal depok',\n",
    "          '03 pertigaan ramanda arah depok mall',\n",
    "          '04 pasar baru jln nusantara',\n",
    "          '05 jln raya sawangan',\n",
    "          '06 rumah (sarikaya)',\n",
    "          '07 dewi sartika, perlimaan, lajur lama',\n",
    "          '08 dewi sartika, perlimaan, lajur baru',\n",
    "          '09 jln kartini - dewi sartika, arah margonda',\n",
    "          '10 jln kartini - dewi sartika, arah citayam',\n",
    "          '11 ITC depok',\n",
    "          '12 sebrang ITC depok']"
   ]
  },
  {
   "cell_type": "code",
   "execution_count": 4,
   "metadata": {
    "collapsed": true
   },
   "outputs": [],
   "source": [
    "times2019_mon = ['2019-02-04T{}:00:00'.format(x) for x in ['07', '08', '09', '17', '18', '19']]\n",
    "times2019_wed = ['2019-02-06T{}:00:00'.format(x) for x in ['07', '08', '09', '17', '18', '19']]\n",
    "times2019_fri = ['2019-02-08T{}:00:00'.format(x) for x in ['07', '08', '09', '17', '18', '19']]\n",
    "times2019_sat = ['2019-02-09T{}:00:00'.format(x) for x in ['07', '08', '09', '17', '18', '19']]"
   ]
  },
  {
   "cell_type": "code",
   "execution_count": 5,
   "metadata": {},
   "outputs": [
    {
     "data": {
      "text/plain": [
       "['2019-02-08T07:00:00',\n",
       " '2019-02-08T08:00:00',\n",
       " '2019-02-08T09:00:00',\n",
       " '2019-02-08T17:00:00',\n",
       " '2019-02-08T18:00:00',\n",
       " '2019-02-08T19:00:00']"
      ]
     },
     "execution_count": 5,
     "metadata": {},
     "output_type": "execute_result"
    }
   ],
   "source": [
    "times2019_fri"
   ]
  },
  {
   "cell_type": "markdown",
   "metadata": {},
   "source": [
    "# CSV generation"
   ]
  },
  {
   "cell_type": "code",
   "execution_count": 8,
   "metadata": {
    "collapsed": true
   },
   "outputs": [],
   "source": [
    "times = [times2019_mon, times2019_wed, times2019_fri, times2019_sat]"
   ]
  },
  {
   "cell_type": "code",
   "execution_count": 16,
   "metadata": {
    "scrolled": true
   },
   "outputs": [
    {
     "name": "stdout",
     "output_type": "stream",
     "text": [
      "0\n",
      "1\n",
      "2\n",
      "3\n",
      "4\n",
      "5\n",
      "6\n",
      "7\n",
      "8\n",
      "9\n",
      "10\n",
      "11\n",
      "0\n",
      "1\n",
      "2\n",
      "3\n",
      "4\n",
      "5\n",
      "6\n",
      "7\n",
      "8\n",
      "9\n",
      "10\n",
      "11\n",
      "0\n",
      "1\n",
      "2\n",
      "3\n",
      "4\n",
      "5\n",
      "6\n",
      "7\n",
      "8\n",
      "9\n",
      "10\n",
      "11\n",
      "0\n",
      "1\n",
      "2\n",
      "3\n",
      "4\n",
      "5\n",
      "6\n",
      "7\n",
      "8\n",
      "9\n",
      "10\n",
      "11\n"
     ]
    }
   ],
   "source": [
    "gdf_master = gpd.GeoDataFrame()\n",
    "\n",
    "for tms in times:\n",
    "    for p1 in range(12): #for each starting position\n",
    "        print(p1)\n",
    "        for p2 in range(12): #for each ending position\n",
    "            if p1 != p2:\n",
    "                start = points[p1]\n",
    "                end = points[p2]\n",
    "\n",
    "                #2019 data\n",
    "                for t in range(6): #for each time of the day\n",
    "                    dep_hour = tms[t]\n",
    "                    if t==0:\n",
    "                        gdf = get_df(start=start, end=end, time=dep_hour, app_code=app_code, app_id=app_id)\n",
    "                        gdf['clock_time'] = dep_hour\n",
    "                    else:\n",
    "                        gdf2 = get_df(start=start, end=end, time=dep_hour, app_code=app_code, app_id=app_id)\n",
    "                        gdf2['clock_time'] = dep_hour\n",
    "                        gdf = gdf.append(gdf2)\n",
    "                gdf['From'] = points_name[p1]\n",
    "                gdf['To'] = points_name[p2]\n",
    "                gdf_master = gdf_master.append(gdf)"
   ]
  },
  {
   "cell_type": "code",
   "execution_count": 18,
   "metadata": {
    "collapsed": true
   },
   "outputs": [],
   "source": [
    "gdf_master.to_csv('data_2019.csv')"
   ]
  }
 ],
 "metadata": {
  "kernelspec": {
   "display_name": "Python [conda root]",
   "language": "python",
   "name": "conda-root-py"
  },
  "language_info": {
   "codemirror_mode": {
    "name": "ipython",
    "version": 3
   },
   "file_extension": ".py",
   "mimetype": "text/x-python",
   "name": "python",
   "nbconvert_exporter": "python",
   "pygments_lexer": "ipython3",
   "version": "3.6.0"
  }
 },
 "nbformat": 4,
 "nbformat_minor": 2
}
