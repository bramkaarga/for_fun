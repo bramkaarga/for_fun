{
 "cells": [
  {
   "cell_type": "markdown",
   "metadata": {},
   "source": [
    "# Does SSA (Sistem Satu Arah - Unidirectional Road System) implementation on some road segments in Depok city make any improvement to the traffic condition of the city?\n",
    "\n",
    "- Comparing the traffic conditions (in terms of travel time) between various locations in Depok city before (< July 2017) and after (> July 2017) the implementation of SSA\n",
    "- Using HERE REST API to derive past traffic conditions"
   ]
  },
  {
   "cell_type": "markdown",
   "metadata": {},
   "source": [
    "### Limitations\n",
    "Apparently HERE REST API only provides precise historical travel times from 1 January 2018 onward. Travel times before that time are averaged out and categorised into 'morning travel' and 'evening travel'."
   ]
  },
  {
   "cell_type": "markdown",
   "metadata": {},
   "source": [
    "# information input"
   ]
  },
  {
   "cell_type": "code",
   "execution_count": 1,
   "metadata": {},
   "outputs": [],
   "source": [
    "import pandas as pd\n",
    "import geopandas as gpd\n",
    "import numpy as np\n",
    "import json\n",
    "import urllib.request\n",
    "import sys\n",
    "import osmnx as ox\n",
    "from shapely.geometry import Point, Polygon\n",
    "import gmplot\n",
    "from utils import *\n",
    "\n",
    "app_code = ''\n",
    "app_id = ''"
   ]
  },
  {
   "cell_type": "code",
   "execution_count": 2,
   "metadata": {
    "collapsed": true
   },
   "outputs": [],
   "source": [
    "#list koordinat\n",
    "points = [Point(106.831913, -6.377133), #01 pertigaan juanda-margonda arah ramanda\n",
    "          Point(106.825930, -6.389564), #02 pertigaan ramanda arah terminal depok\n",
    "          Point(106.825812, -6.389415), #03 pertigaan ramanda arah depok mall\n",
    "          Point(106.814649, -6.392354), #04 pasar baru jln nusantara\n",
    "          Point(106.812714, -6.399052), #05 jln raya sawangan\n",
    "          Point(106.813877, -6.397228), #06 rumah (sarikaya)\n",
    "          Point(106.813627, -6.399058), #07 dewi sartika, perlimaan, lajur lama\n",
    "          Point(106.813580, -6.399127), #08 dewi sartika, perlimaan, lajur baru\n",
    "          Point(106.818997, -6.399890), #09 jln kartini - dewi sartika, arah margonda\n",
    "          Point(106.819098, -6.399924), #10 jln kartini - dewi sartika, arah citayam\n",
    "          Point(106.823846, -6.393196), #11 ITC depok\n",
    "          Point(106.824034, -6.393209), #12 sebrang ITC depok\n",
    "         ]"
   ]
  },
  {
   "cell_type": "code",
   "execution_count": 3,
   "metadata": {
    "collapsed": true
   },
   "outputs": [],
   "source": [
    "points_name = ['01 pertigaan juanda-margonda arah ramanda',\n",
    "          '02 pertigaan ramanda arah terminal depok',\n",
    "          '03 pertigaan ramanda arah depok mall',\n",
    "          '04 pasar baru jln nusantara',\n",
    "          '05 jln raya sawangan',\n",
    "          '06 rumah (sarikaya)',\n",
    "          '07 dewi sartika, perlimaan, lajur lama',\n",
    "          '08 dewi sartika, perlimaan, lajur baru',\n",
    "          '09 jln kartini - dewi sartika, arah margonda',\n",
    "          '10 jln kartini - dewi sartika, arah citayam',\n",
    "          '11 ITC depok',\n",
    "          '12 sebrang ITC depok']"
   ]
  },
  {
   "cell_type": "code",
   "execution_count": 4,
   "metadata": {
    "collapsed": true
   },
   "outputs": [],
   "source": [
    "times2018_mon = ['2018-02-05T{}:00:00'.format(x) for x in ['07', '08', '09', '17', '18', '19']]\n",
    "times2018_wed = ['2018-02-07T{}:00:00'.format(x) for x in ['07', '08', '09', '17', '18', '19']]\n",
    "times2018_fri = ['2018-02-09T{}:00:00'.format(x) for x in ['07', '08', '09', '17', '18', '19']]\n",
    "times2018_sat = ['2018-02-10T{}:00:00'.format(x) for x in ['07', '08', '09', '17', '18', '19']]\n",
    "\n",
    "times2017_mon = ['2017-02-06T{}:00:00'.format(x) for x in ['07', '08', '09', '17', '18', '19']]\n",
    "times2017_wed = ['2017-02-08T{}:00:00'.format(x) for x in ['07', '08', '09', '17', '18', '19']]\n",
    "times2017_fri = ['2017-02-10T{}:00:00'.format(x) for x in ['07', '08', '09', '17', '18', '19']]\n",
    "times2017_sat = ['2017-02-11T{}:00:00'.format(x) for x in ['07', '08', '09', '17', '18', '19']]"
   ]
  },
  {
   "cell_type": "code",
   "execution_count": 5,
   "metadata": {},
   "outputs": [
    {
     "data": {
      "text/plain": [
       "['2018-02-09T07:00:00',\n",
       " '2018-02-09T08:00:00',\n",
       " '2018-02-09T09:00:00',\n",
       " '2018-02-09T17:00:00',\n",
       " '2018-02-09T18:00:00',\n",
       " '2018-02-09T19:00:00']"
      ]
     },
     "execution_count": 5,
     "metadata": {},
     "output_type": "execute_result"
    }
   ],
   "source": [
    "times2018_fri"
   ]
  },
  {
   "cell_type": "markdown",
   "metadata": {},
   "source": [
    "# Draw isoline\n",
    "Isoline : line that defines an area that can be reached within a given time from a given point on a map\n",
    "\n",
    "Results are saved directly into a separate HTML file"
   ]
  },
  {
   "cell_type": "code",
   "execution_count": 6,
   "metadata": {
    "collapsed": true
   },
   "outputs": [],
   "source": [
    "#coba isoline 2018\n",
    "start = points[4]\n",
    "dep_hour = times2018_sat[5]\n",
    "input_range=600 #in seconds\n",
    "\n",
    "test_poly1=get_isoline(start, dep_hour, app_code, app_id, input_range)\n",
    "test_poly_pic=draw_isoline(center=start, range_=14, poly=test_poly1)\n",
    "test_poly_pic.draw('map_2018.html')"
   ]
  },
  {
   "cell_type": "code",
   "execution_count": 7,
   "metadata": {
    "collapsed": true
   },
   "outputs": [],
   "source": [
    "#coba isoline 2017\n",
    "start = points[4]\n",
    "dep_hour = times2017_sat[5]\n",
    "input_range=600 #in seconds\n",
    "\n",
    "test_poly2=get_isoline(start, dep_hour, app_code, app_id, input_range)\n",
    "test_poly_pic=draw_isoline(center=start, range_=14, poly=test_poly2)\n",
    "test_poly_pic.draw('map_2017.html')"
   ]
  },
  {
   "cell_type": "code",
   "execution_count": 8,
   "metadata": {
    "collapsed": true
   },
   "outputs": [],
   "source": [
    "test_poly_pic_compare = draw_isoline_compare(center=start, range_=14, poly1=test_poly1, poly2=test_poly2)\n",
    "test_poly_pic_compare.draw('map_2017_2018.html')"
   ]
  },
  {
   "cell_type": "markdown",
   "metadata": {},
   "source": [
    "# CSV generation"
   ]
  },
  {
   "cell_type": "code",
   "execution_count": 9,
   "metadata": {
    "collapsed": true
   },
   "outputs": [],
   "source": [
    "times_pairs = [(times2018_mon, times2017_mon),\n",
    "               (times2018_wed, times2017_wed),\n",
    "               (times2018_fri, times2017_fri),\n",
    "               (times2018_sat, times2017_sat)]"
   ]
  },
  {
   "cell_type": "code",
   "execution_count": 10,
   "metadata": {
    "collapsed": true
   },
   "outputs": [],
   "source": [
    "gdf_master = gpd.GeoDataFrame()\n",
    "\n",
    "for times_pair in times_pairs:\n",
    "    for p1 in range(12): #for each starting position\n",
    "        for p2 in range(12): #for each ending position\n",
    "            if p1 != p2:\n",
    "                start = points[p1]\n",
    "                end = points[p2]\n",
    "\n",
    "                #2018 data\n",
    "                for t in range(6): #for each time of the day\n",
    "                    dep_hour = times_pair[0][t]\n",
    "                    if t==0:\n",
    "                        gdf = get_df(start=start, end=end, time=dep_hour, app_code=app_code, app_id=app_id)\n",
    "                        gdf['clock_time'] = dep_hour\n",
    "                    else:\n",
    "                        gdf2 = get_df(start=start, end=end, time=dep_hour, app_code=app_code, app_id=app_id)\n",
    "                        gdf2['clock_time'] = dep_hour\n",
    "                        gdf = gdf.append(gdf2)\n",
    "                gdf['From'] = points_name[p1]\n",
    "                gdf['To'] = points_name[p2]\n",
    "                gdf_master = gdf_master.append(gdf)\n",
    "\n",
    "                #2017 data\n",
    "                for t in range(6): #for each time of the day\n",
    "                    dep_hour = times_pair[1][t]\n",
    "                    if t==0:\n",
    "                        gdf = get_df(start=start, end=end, time=dep_hour, app_code=app_code, app_id=app_id)\n",
    "                        gdf['clock_time'] = dep_hour\n",
    "                    else:\n",
    "                        gdf2 = get_df(start=start, end=end, time=dep_hour, app_code=app_code, app_id=app_id)\n",
    "                        gdf2['clock_time'] = dep_hour\n",
    "                        gdf = gdf.append(gdf2)\n",
    "                gdf['From'] = points_name[p1]\n",
    "                gdf['To'] = points_name[p2]\n",
    "                gdf_master = gdf_master.append(gdf)"
   ]
  },
  {
   "cell_type": "code",
   "execution_count": 11,
   "metadata": {
    "collapsed": true
   },
   "outputs": [],
   "source": [
    "gdf_master.to_csv('data_2017_2018.csv')"
   ]
  },
  {
   "cell_type": "code",
   "execution_count": 12,
   "metadata": {},
   "outputs": [
    {
     "data": {
      "text/plain": [
       "6336"
      ]
     },
     "execution_count": 12,
     "metadata": {},
     "output_type": "execute_result"
    }
   ],
   "source": [
    "len(gdf_master)"
   ]
  }
 ],
 "metadata": {
  "kernelspec": {
   "display_name": "Python [conda root]",
   "language": "python",
   "name": "conda-root-py"
  },
  "language_info": {
   "codemirror_mode": {
    "name": "ipython",
    "version": 3
   },
   "file_extension": ".py",
   "mimetype": "text/x-python",
   "name": "python",
   "nbconvert_exporter": "python",
   "pygments_lexer": "ipython3",
   "version": "3.6.3"
  }
 },
 "nbformat": 4,
 "nbformat_minor": 2
}
