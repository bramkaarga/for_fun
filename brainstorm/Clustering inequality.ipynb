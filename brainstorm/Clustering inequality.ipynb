{
 "cells": [
  {
   "cell_type": "code",
   "execution_count": 1,
   "metadata": {
    "collapsed": true
   },
   "outputs": [],
   "source": [
    "import numpy as np\n",
    "import pandas as pd\n",
    "from sklearn.cluster import KMeans\n",
    "\n",
    "import matplotlib.pyplot as plt\n",
    "import seaborn as sns\n",
    "%matplotlib inline"
   ]
  },
  {
   "cell_type": "markdown",
   "metadata": {},
   "source": [
    "## Clustering simulation results to discover inequality patterns\n",
    "#### Bramka Arga Jafino\n",
    "\n",
    "A brainstorming notebook for my ongoing PhD research"
   ]
  },
  {
   "cell_type": "markdown",
   "metadata": {},
   "source": [
    "Suppose a simulation model has two outcome variables: welfare of actor A and welfare of actor B.\n",
    "    \n",
    "For proof of concept purpose, we just randomly generate the results of this model "
   ]
  },
  {
   "cell_type": "code",
   "execution_count": 2,
   "metadata": {
    "collapsed": true
   },
   "outputs": [],
   "source": [
    "m1 = 25\n",
    "m2 = 60\n",
    "\n",
    "a_m1 = np.random.uniform(m1-10, m1+10, 30)\n",
    "b_m1 = np.random.uniform(m1-10, m1+10, 30)\n",
    "\n",
    "a_m2 = np.random.uniform(m2-10, m2+10, 30)\n",
    "b_m2 = np.random.uniform(m2-10, m2+10, 30)"
   ]
  },
  {
   "cell_type": "code",
   "execution_count": 3,
   "metadata": {
    "collapsed": true
   },
   "outputs": [],
   "source": [
    "df = pd.DataFrame()\n",
    "df['a'] = np.append(a_m1, a_m2)\n",
    "df['b'] = np.append(b_m1, b_m2)"
   ]
  },
  {
   "cell_type": "markdown",
   "metadata": {},
   "source": [
    "Let's plot them in a scatterplot"
   ]
  },
  {
   "cell_type": "code",
   "execution_count": 4,
   "metadata": {},
   "outputs": [
    {
     "data": {
      "text/plain": [
       "<matplotlib.axes._subplots.AxesSubplot at 0x21cea752ef0>"
      ]
     },
     "execution_count": 4,
     "metadata": {},
     "output_type": "execute_result"
    },
    {
     "data": {
      "image/png": "[encoded data removed]",
      "text/plain": [
       "<Figure size 432x288 with 1 Axes>"
      ]
     },
     "metadata": {
      "needs_background": "light"
     },
     "output_type": "display_data"
    }
   ],
   "source": [
    "sns.scatterplot(data=df, x='a', y='b')"
   ]
  },
  {
   "cell_type": "markdown",
   "metadata": {},
   "source": [
    "Now if we use k-means clustering to generate two clusters, as could be logically deduced, one cluster will be datasets in the top right of the graph and another one on the bottom left"
   ]
  },
  {
   "cell_type": "code",
   "execution_count": 5,
   "metadata": {
    "collapsed": true
   },
   "outputs": [],
   "source": [
    "kmeans = KMeans(n_clusters=2, random_state=0).fit(df)\n",
    "df['label_0'] = kmeans.labels_"
   ]
  },
  {
   "cell_type": "code",
   "execution_count": 6,
   "metadata": {},
   "outputs": [
    {
     "data": {
      "text/plain": [
       "<matplotlib.axes._subplots.AxesSubplot at 0x21cea8e9ba8>"
      ]
     },
     "execution_count": 6,
     "metadata": {},
     "output_type": "execute_result"
    },
    {
     "data": {
      "image/png": "[encoded data removed]",
      "text/plain": [
       "<Figure size 432x288 with 1 Axes>"
      ]
     },
     "metadata": {
      "needs_background": "light"
     },
     "output_type": "display_data"
    }
   ],
   "source": [
    "sns.scatterplot(data=df, x='a', y='b', hue='label_0')"
   ]
  },
  {
   "cell_type": "markdown",
   "metadata": {},
   "source": [
    "This is because k-means (and other clustering algorithms) basically attempts to minimize the distance between data points.\n",
    "\n",
    "In our case, our concern is identifying losers and winners in each simulation result. Within each cluster, we can see that different actors become winners and losers.\n",
    "\n",
    "This can be observed by calculating variable 'a/b' which simply calculates the relative performance of actor A to actor B. We can then cluster datasets with the median of 'a/b' as the threshold (one cluster which 'a/b' values are above the median, another one below median)"
   ]
  },
  {
   "cell_type": "code",
   "execution_count": 7,
   "metadata": {
    "collapsed": true
   },
   "outputs": [],
   "source": [
    "df['a/b'] = df['a'] / df['b']\n",
    "med = np.median(df['a/b'])\n",
    "df['label_1'] = df['a/b'].apply(lambda x: 0 if x < med else 1)"
   ]
  },
  {
   "cell_type": "code",
   "execution_count": 11,
   "metadata": {},
   "outputs": [
    {
     "data": {
      "text/plain": [
       "0.9860193469024755"
      ]
     },
     "execution_count": 11,
     "metadata": {},
     "output_type": "execute_result"
    }
   ],
   "source": [
    "med"
   ]
  },
  {
   "cell_type": "code",
   "execution_count": 9,
   "metadata": {},
   "outputs": [
    {
     "data": {
      "text/html": [
       "<div>\n",
       "<style scoped>\n",
       "    .dataframe tbody tr th:only-of-type {\n",
       "        vertical-align: middle;\n",
       "    }\n",
       "\n",
       "    .dataframe tbody tr th {\n",
       "        vertical-align: top;\n",
       "    }\n",
       "\n",
       "    .dataframe thead th {\n",
       "        text-align: right;\n",
       "    }\n",
       "</style>\n",
       "<table border=\"1\" class=\"dataframe\">\n",
       "  <thead>\n",
       "    <tr style=\"text-align: right;\">\n",
       "      <th></th>\n",
       "      <th>a</th>\n",
       "      <th>b</th>\n",
       "      <th>label_0</th>\n",
       "      <th>a/b</th>\n",
       "      <th>label_1</th>\n",
       "    </tr>\n",
       "  </thead>\n",
       "  <tbody>\n",
       "    <tr>\n",
       "      <th>0</th>\n",
       "      <td>17.194974</td>\n",
       "      <td>34.850193</td>\n",
       "      <td>1</td>\n",
       "      <td>0.493397</td>\n",
       "      <td>0</td>\n",
       "    </tr>\n",
       "    <tr>\n",
       "      <th>1</th>\n",
       "      <td>34.933397</td>\n",
       "      <td>19.628322</td>\n",
       "      <td>1</td>\n",
       "      <td>1.779744</td>\n",
       "      <td>1</td>\n",
       "    </tr>\n",
       "    <tr>\n",
       "      <th>2</th>\n",
       "      <td>20.800389</td>\n",
       "      <td>16.871539</td>\n",
       "      <td>1</td>\n",
       "      <td>1.232869</td>\n",
       "      <td>1</td>\n",
       "    </tr>\n",
       "    <tr>\n",
       "      <th>3</th>\n",
       "      <td>34.141947</td>\n",
       "      <td>27.772684</td>\n",
       "      <td>1</td>\n",
       "      <td>1.229336</td>\n",
       "      <td>1</td>\n",
       "    </tr>\n",
       "    <tr>\n",
       "      <th>4</th>\n",
       "      <td>32.531768</td>\n",
       "      <td>20.779362</td>\n",
       "      <td>1</td>\n",
       "      <td>1.565581</td>\n",
       "      <td>1</td>\n",
       "    </tr>\n",
       "  </tbody>\n",
       "</table>\n",
       "</div>"
      ],
      "text/plain": [
       "           a          b  label_0       a/b  label_1\n",
       "0  17.194974  34.850193        1  0.493397        0\n",
       "1  34.933397  19.628322        1  1.779744        1\n",
       "2  20.800389  16.871539        1  1.232869        1\n",
       "3  34.141947  27.772684        1  1.229336        1\n",
       "4  32.531768  20.779362        1  1.565581        1"
      ]
     },
     "execution_count": 9,
     "metadata": {},
     "output_type": "execute_result"
    }
   ],
   "source": [
    "df.head(5)"
   ]
  },
  {
   "cell_type": "code",
   "execution_count": 10,
   "metadata": {},
   "outputs": [
    {
     "data": {
      "text/html": [
       "<div>\n",
       "<style scoped>\n",
       "    .dataframe tbody tr th:only-of-type {\n",
       "        vertical-align: middle;\n",
       "    }\n",
       "\n",
       "    .dataframe tbody tr th {\n",
       "        vertical-align: top;\n",
       "    }\n",
       "\n",
       "    .dataframe thead th {\n",
       "        text-align: right;\n",
       "    }\n",
       "</style>\n",
       "<table border=\"1\" class=\"dataframe\">\n",
       "  <thead>\n",
       "    <tr style=\"text-align: right;\">\n",
       "      <th></th>\n",
       "      <th>a</th>\n",
       "      <th>b</th>\n",
       "      <th>label_0</th>\n",
       "      <th>a/b</th>\n",
       "      <th>label_1</th>\n",
       "    </tr>\n",
       "  </thead>\n",
       "  <tbody>\n",
       "    <tr>\n",
       "      <th>55</th>\n",
       "      <td>60.283000</td>\n",
       "      <td>64.802220</td>\n",
       "      <td>0</td>\n",
       "      <td>0.930261</td>\n",
       "      <td>0</td>\n",
       "    </tr>\n",
       "    <tr>\n",
       "      <th>56</th>\n",
       "      <td>68.388930</td>\n",
       "      <td>64.397780</td>\n",
       "      <td>0</td>\n",
       "      <td>1.061977</td>\n",
       "      <td>1</td>\n",
       "    </tr>\n",
       "    <tr>\n",
       "      <th>57</th>\n",
       "      <td>61.695404</td>\n",
       "      <td>63.952207</td>\n",
       "      <td>0</td>\n",
       "      <td>0.964711</td>\n",
       "      <td>0</td>\n",
       "    </tr>\n",
       "    <tr>\n",
       "      <th>58</th>\n",
       "      <td>59.381040</td>\n",
       "      <td>60.089227</td>\n",
       "      <td>0</td>\n",
       "      <td>0.988214</td>\n",
       "      <td>1</td>\n",
       "    </tr>\n",
       "    <tr>\n",
       "      <th>59</th>\n",
       "      <td>63.678831</td>\n",
       "      <td>54.705344</td>\n",
       "      <td>0</td>\n",
       "      <td>1.164033</td>\n",
       "      <td>1</td>\n",
       "    </tr>\n",
       "  </tbody>\n",
       "</table>\n",
       "</div>"
      ],
      "text/plain": [
       "            a          b  label_0       a/b  label_1\n",
       "55  60.283000  64.802220        0  0.930261        0\n",
       "56  68.388930  64.397780        0  1.061977        1\n",
       "57  61.695404  63.952207        0  0.964711        0\n",
       "58  59.381040  60.089227        0  0.988214        1\n",
       "59  63.678831  54.705344        0  1.164033        1"
      ]
     },
     "execution_count": 10,
     "metadata": {},
     "output_type": "execute_result"
    }
   ],
   "source": [
    "df.tail(5)"
   ]
  },
  {
   "cell_type": "code",
   "execution_count": 13,
   "metadata": {},
   "outputs": [
    {
     "data": {
      "text/plain": [
       "<matplotlib.axes._subplots.AxesSubplot at 0x21ceb1e8550>"
      ]
     },
     "execution_count": 13,
     "metadata": {},
     "output_type": "execute_result"
    },
    {
     "data": {
      "image/png": "[encoded data removed]",
      "text/plain": [
       "<Figure size 432x288 with 1 Axes>"
      ]
     },
     "metadata": {
      "needs_background": "light"
     },
     "output_type": "display_data"
    }
   ],
   "source": [
    "sns.kdeplot(df['a/b'])"
   ]
  },
  {
   "cell_type": "code",
   "execution_count": 8,
   "metadata": {},
   "outputs": [
    {
     "data": {
      "text/plain": [
       "<matplotlib.axes._subplots.AxesSubplot at 0x21ceb02b080>"
      ]
     },
     "execution_count": 8,
     "metadata": {},
     "output_type": "execute_result"
    },
    {
     "data": {
      "image/png": "[encoded data removed]",
      "text/plain": [
       "<Figure size 432x288 with 1 Axes>"
      ]
     },
     "metadata": {
      "needs_background": "light"
     },
     "output_type": "display_data"
    }
   ],
   "source": [
    "sns.scatterplot(data=df, x='a', y='b', hue='label_1')"
   ]
  },
  {
   "cell_type": "markdown",
   "metadata": {},
   "source": [
    "We can see that the generated cluster differs from the original cluster by the K-means. Cluster 0 contains outcomes where actor B is better-off, while cluster 1 contains outcomems where actor A is better-off."
   ]
  },
  {
   "cell_type": "markdown",
   "metadata": {},
   "source": [
    "The points I'm trying to make are:\n",
    "- In our case (23 variables of welfare of 23 districts), we cannot simply apply clustering algorithms to the simulation results database, as our goal is identifying inequality patterns\n",
    "- Hence, two alternative ways to move forward:\n",
    "    - Post processing of the simulation results. The example above only has two actors, we must find a way to generalize to n actors (probably there are already published works, but I don't recall one yet)\n",
    "    - Alternative distance metrics for the clustering algorithm (so not simply using euclidean distance)"
   ]
  }
 ],
 "metadata": {
  "kernelspec": {
   "display_name": "Python [conda root]",
   "language": "python",
   "name": "conda-root-py"
  },
  "language_info": {
   "codemirror_mode": {
    "name": "ipython",
    "version": 3
   },
   "file_extension": ".py",
   "mimetype": "text/x-python",
   "name": "python",
   "nbconvert_exporter": "python",
   "pygments_lexer": "ipython3",
   "version": "3.6.0"
  }
 },
 "nbformat": 4,
 "nbformat_minor": 2
}
